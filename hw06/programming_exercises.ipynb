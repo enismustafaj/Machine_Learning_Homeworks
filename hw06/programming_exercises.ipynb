{
 "cells": [
  {
   "cell_type": "markdown",
   "id": "8270cdb8",
   "metadata": {},
   "source": [
    "**Programming Exercise 1**"
   ]
  },
  {
   "cell_type": "code",
   "execution_count": 1,
   "id": "3519a95c",
   "metadata": {},
   "outputs": [],
   "source": [
    "import numpy as np\n",
    "import matplotlib.pyplot as plt\n",
    "import pandas as pd\n",
    "\n",
    "from sklearn import linear_model\n",
    "\n",
    "np.random.seed(0)"
   ]
  },
  {
   "cell_type": "code",
   "execution_count": 2,
   "id": "3f69945d",
   "metadata": {},
   "outputs": [],
   "source": [
    "class MiniBatchGradientDescentLinearRegressor:\n",
    "    ''' Implementation of Mini-Batch Gradient Descent '''\n",
    "    \n",
    "    def __init__(self, learning_rate=0.01, batch_size=None, epochs=200):\n",
    "        self.learning_rate = learning_rate\n",
    "        self.batch_size = batch_size\n",
    "        self.epochs = epochs\n",
    "        self.X_train = None\n",
    "        self.y_train = None\n",
    "    \n",
    "    def set_params(self, learning_rate=None, epochs=None):\n",
    "        if learning_rate:\n",
    "            self.learning_rate = learning_rate\n",
    "        \n",
    "        if epochs:\n",
    "            self.epochs = epochs\n",
    "    \n",
    "    def fit(self, X_train, y_train):\n",
    "        if X_train is None:\n",
    "            raise Exception('Training feature data has not bee provided')\n",
    "        \n",
    "        if y_train is None:\n",
    "            raise Exception('Training prediction data has not been provided')\n",
    "            \n",
    "        self.X_train = X_train\n",
    "        self.y_train = y_train"
   ]
  },
  {
   "cell_type": "code",
   "execution_count": 3,
   "id": "46f33509",
   "metadata": {},
   "outputs": [],
   "source": [
    "class SGDLinearRegressor(MiniBatchGradientDescentLinearRegressor):\n",
    "    \n",
    "    def __init__(self, learning_rate, epochs):\n",
    "        super().__init__(learning_rate=learning_rate, batch_size=1, epochs=epochs)"
   ]
  },
  {
   "cell_type": "code",
   "execution_count": 4,
   "id": "5cc48fa3",
   "metadata": {},
   "outputs": [],
   "source": [
    "class BGDLinearRegressor(MiniBatchGradientDescentLinearRegressor):\n",
    "    \n",
    "    def __init__(self, learning_rate, batch_size, epochs):\n",
    "        super().__init__(learning_rate=learning_rate, batch_size=None, epochs=epochs)"
   ]
  },
  {
   "cell_type": "code",
   "execution_count": 5,
   "id": "22683116",
   "metadata": {},
   "outputs": [
    {
     "name": "stdout",
     "output_type": "stream",
     "text": [
      "  % Total    % Received % Xferd  Average Speed   Time    Time     Time  Current\n",
      "                                 Dload  Upload   Total   Spent    Left  Speed\n",
      "100 76189  100 76189    0     0  48190      0  0:00:01  0:00:01 --:--:-- 48159\n"
     ]
    }
   ],
   "source": [
    "!curl -o data.xlsx https://archive.ics.uci.edu/ml/machine-learning-databases/00242/ENB2012_data.xlsx"
   ]
  },
  {
   "cell_type": "code",
   "execution_count": 6,
   "id": "183a9019",
   "metadata": {
    "scrolled": true
   },
   "outputs": [],
   "source": [
    "N = 200\n",
    "\n",
    "df = pd.read_excel('./data.xlsx')\n",
    "\n",
    "X_train = df.iloc[:N, :8].to_numpy()\n",
    "y_train = df.iloc[:N, 8:9].to_numpy()"
   ]
  }
 ],
 "metadata": {
  "kernelspec": {
   "display_name": "Python 3 (ipykernel)",
   "language": "python",
   "name": "python3"
  },
  "language_info": {
   "codemirror_mode": {
    "name": "ipython",
    "version": 3
   },
   "file_extension": ".py",
   "mimetype": "text/x-python",
   "name": "python",
   "nbconvert_exporter": "python",
   "pygments_lexer": "ipython3",
   "version": "3.8.10"
  }
 },
 "nbformat": 4,
 "nbformat_minor": 5
}
