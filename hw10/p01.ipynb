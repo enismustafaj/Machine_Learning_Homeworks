{
 "cells": [
  {
   "cell_type": "code",
   "execution_count": 1,
   "id": "9b178816",
   "metadata": {},
   "outputs": [],
   "source": [
    "import matplotlib.pyplot as plt\n",
    "import numpy as np\n",
    "\n",
    "from scipy.spatial.distance import cdist \n",
    "from sklearn.cluster import KMeans"
   ]
  },
  {
   "cell_type": "code",
   "execution_count": 2,
   "id": "78fb44ed",
   "metadata": {},
   "outputs": [],
   "source": [
    "X = np.array([\n",
    "    [15, 7],\n",
    "    [0, -9],\n",
    "    [-2, -5],\n",
    "    [2, 3],\n",
    "    [3, 7],\n",
    "    [18, 12]\n",
    "])\n",
    "\n",
    "y = np.array([2, 1, 1, 0, 2, 0])"
   ]
  },
  {
   "cell_type": "code",
   "execution_count": 3,
   "id": "af48920f",
   "metadata": {},
   "outputs": [],
   "source": [
    "km = KMeans(n_clusters=3, init='random', n_init=10, max_iter=300, tol=1e-04, random_state=0)\n",
    "\n",
    "km.fit(X, y)\n",
    "y_pred = km.predict(X)"
   ]
  },
  {
   "cell_type": "code",
   "execution_count": 4,
   "id": "d69243d7",
   "metadata": {},
   "outputs": [
    {
     "data": {
      "text/plain": [
       "array([0, 2, 2, 1, 1, 0], dtype=int32)"
      ]
     },
     "execution_count": 4,
     "metadata": {},
     "output_type": "execute_result"
    }
   ],
   "source": [
    "km.labels_"
   ]
  },
  {
   "cell_type": "code",
   "execution_count": 5,
   "id": "26e72078",
   "metadata": {},
   "outputs": [
    {
     "data": {
      "text/plain": [
       "array([[16.5,  9.5],\n",
       "       [ 2.5,  5. ],\n",
       "       [-1. , -7. ]])"
      ]
     },
     "execution_count": 5,
     "metadata": {},
     "output_type": "execute_result"
    }
   ],
   "source": [
    "km.cluster_centers_"
   ]
  },
  {
   "cell_type": "code",
   "execution_count": 6,
   "id": "fa670213",
   "metadata": {},
   "outputs": [
    {
     "data": {
      "image/png": "[encoded data removed]",
      "text/plain": [
       "<Figure size 432x288 with 1 Axes>"
      ]
     },
     "metadata": {
      "needs_background": "light"
     },
     "output_type": "display_data"
    }
   ],
   "source": [
    "# Plot clusters\n",
    "plt.scatter(\n",
    "    X[y_pred == 0, 0], X[y_pred == 0, 1],\n",
    "    s=50, c='lightgreen',\n",
    "    marker='s', edgecolor='black',\n",
    "    label='cluster 1'\n",
    ")\n",
    "\n",
    "plt.scatter(\n",
    "    X[y_pred == 1, 0], X[y_pred == 1, 1],\n",
    "    s=50, c='orange',\n",
    "    marker='o', edgecolor='black',\n",
    "    label='cluster 2'\n",
    ")\n",
    "\n",
    "plt.scatter(\n",
    "    X[y_pred == 2, 0], X[y_pred == 2, 1],\n",
    "    s=50, c='lightblue',\n",
    "    marker='v', edgecolor='black',\n",
    "    label='cluster 3'\n",
    ")\n",
    "\n",
    "# Plot centroids\n",
    "plt.scatter(\n",
    "    km.cluster_centers_[:, 0], km.cluster_centers_[:, 1],\n",
    "    s=250, marker='*',\n",
    "    c='red', edgecolor='black',\n",
    "    label='centroids'\n",
    ")\n",
    "\n",
    "plt.legend(scatterpoints=1, loc='right')\n",
    "plt.grid()\n",
    "plt.show()"
   ]
  },
  {
   "cell_type": "code",
   "execution_count": 7,
   "id": "8d76ed98",
   "metadata": {},
   "outputs": [],
   "source": [
    "class KMeansClustering:\n",
    "    \n",
    "    def __init__(self, k=3, tol=0.001, max_iter=300):\n",
    "        self.k = k\n",
    "        self.tol = tol\n",
    "        self.max_iter = max_iter\n",
    "        \n",
    "    def fit(self, X_train, y_train):\n",
    "        self.cluster_centers_ = np.zeros((self.k, X_train.shape[1]))\n",
    "        self.labels_ = np.zeros(y_train.shape[0])\n",
    "        self.n_iter_ = 0\n",
    "        \n",
    "        # Set initial cluster centroids to match the first k data points\n",
    "        self.cluster_centers_ = X_train[:self.k, :]\n",
    "        \n",
    "        print('Initial cluster centers:')\n",
    "        print(self.cluster_centers_)\n",
    "        \n",
    "        # Calculate distances between each training point and the centroids\n",
    "        distances = cdist(X_train, self.cluster_centers_, 'euclidean')\n",
    "        \n",
    "        print('Initial cluster distances from each center:')\n",
    "        print(distances)\n",
    "        \n",
    "        # Calculate centroid with the minimum distance or have it assigned from given labels\n",
    "        if y_train is not None:\n",
    "            self.labels_ = y_train\n",
    "        else:\n",
    "            self.labels_ = np.array([np.argmin(distance) for distance in distances])\n",
    "            \n",
    "        print('Initial labels:')\n",
    "        print(self.labels_)\n",
    "        \n",
    "        for i in range(self.max_iter):\n",
    "            centroids = []\n",
    "            \n",
    "            for idx in range(self.k):\n",
    "                temp_centroid = X_train[self.labels_ == idx].mean(axis=0)\n",
    "                \n",
    "                centroids.append(temp_centroid)\n",
    "                \n",
    "            updated_cluster_centers = np.vstack(centroids)\n",
    "            \n",
    "            print('Updated centroids')\n",
    "            print(np.vstack(centroids))\n",
    "            \n",
    "            surpassed_tol = False\n",
    "            \n",
    "            print('> Iterating over original centroids and currently updated centroids')\n",
    "            for idx, original_centroid in enumerate(self.cluster_centers_):\n",
    "                print('> Original centroid')\n",
    "                print(original_centroid)\n",
    "                \n",
    "                updated_centroid = updated_cluster_centers[idx]\n",
    "                \n",
    "                print('> Updated centroid')\n",
    "                print(updated_centroid)\n",
    "                \n",
    "                print('> Centroid difference')\n",
    "                print(np.sum((updated_centroid - original_centroid) / original_centroid * 100.0))\n",
    "                \n",
    "                if abs(np.sum((updated_centroid - original_centroid) / original_centroid * 100.0)) > self.tol:\n",
    "                    print('Tolerance surpassed by difference of centroids. Continuing iterating...')\n",
    "                    surpassed_tol = True\n",
    "                    break\n",
    "                    \n",
    "            if not surpassed_tol:\n",
    "                print(f'Stopping at iteration {i} since tolerance was not surpassed by any centroid difference')\n",
    "                break\n",
    "                \n",
    "            self.cluster_centers_ = updated_cluster_centers\n",
    "            \n",
    "            print(f'Iteration {i} - Cluster centers')\n",
    "            print(self.cluster_centers_)\n",
    "            \n",
    "            # Recalculate distances with the minimum distance based on the new centroids\n",
    "            distances = cdist(X_train, self.cluster_centers_, 'euclidean')\n",
    "            \n",
    "            print(f'Iteration {i} - Cluster distances from each center:')\n",
    "            print(distances)\n",
    "            \n",
    "            self.labels_ = np.array([np.argmin(distance) for distance in distances])\n",
    "            \n",
    "            print('Labels:')\n",
    "            print(self.labels_)\n",
    "            \n",
    "            self.n_iter_ += 1\n",
    "            \n",
    "        print('Final centroids:')\n",
    "        print(self.cluster_centers_)\n",
    " \n",
    "        return self.labels_ \n",
    "            \n",
    "    def predict(self, X_eval):\n",
    "        distances = cdist(X_eval, self.cluster_centers_, 'euclidean')\n",
    "        \n",
    "        return np.array([np.argmin(distance) for distance in distances])"
   ]
  },
  {
   "cell_type": "code",
   "execution_count": 8,
   "id": "47547fc1",
   "metadata": {},
   "outputs": [
    {
     "name": "stdout",
     "output_type": "stream",
     "text": [
      "Initial cluster centers:\n",
      "[[15  7]\n",
      " [ 0 -9]\n",
      " [-2 -5]]\n",
      "Initial cluster distances from each center:\n",
      "[[ 0.         21.9317122  20.80865205]\n",
      " [21.9317122   0.          4.47213595]\n",
      " [20.80865205  4.47213595  0.        ]\n",
      " [13.60147051 12.16552506  8.94427191]\n",
      " [12.         16.2788206  13.        ]\n",
      " [ 5.83095189 27.65863337 26.2488095 ]]\n",
      "Initial labels:\n",
      "[2 1 1 0 2 0]\n",
      "Updated centroids\n",
      "[[10.   7.5]\n",
      " [-1.  -7. ]\n",
      " [ 9.   7. ]]\n",
      "> Iterating over original centroids and currently updated centroids\n",
      "> Original centroid\n",
      "[15  7]\n",
      "> Updated centroid\n",
      "[10.   7.5]\n",
      "> Centroid difference\n",
      "-26.190476190476186\n",
      "Tolerance surpassed by difference of centroids. Continuing iterating...\n",
      "Iteration 0 - Cluster centers\n",
      "[[10.   7.5]\n",
      " [-1.  -7. ]\n",
      " [ 9.   7. ]]\n",
      "Iteration 0 - Cluster distances from each center:\n",
      "[[ 5.02493781 21.26029163  6.        ]\n",
      " [19.29378138  2.23606798 18.35755975]\n",
      " [17.32772345  2.23606798 16.2788206 ]\n",
      " [ 9.17877988 10.44030651  8.06225775]\n",
      " [ 7.01783442 14.56021978  6.        ]\n",
      " [ 9.17877988 26.87005769 10.29563014]]\n",
      "Labels:\n",
      "[0 1 1 2 2 0]\n",
      "Updated centroids\n",
      "[[16.5  9.5]\n",
      " [-1.  -7. ]\n",
      " [ 2.5  5. ]]\n",
      "> Iterating over original centroids and currently updated centroids\n",
      "> Original centroid\n",
      "[10.   7.5]\n",
      "> Updated centroid\n",
      "[16.5  9.5]\n",
      "> Centroid difference\n",
      "91.66666666666667\n",
      "Tolerance surpassed by difference of centroids. Continuing iterating...\n",
      "Iteration 1 - Cluster centers\n",
      "[[16.5  9.5]\n",
      " [-1.  -7. ]\n",
      " [ 2.5  5. ]]\n",
      "Iteration 1 - Cluster distances from each center:\n",
      "[[ 2.91547595 21.26029163 12.6589889 ]\n",
      " [24.78911051  2.23606798 14.22146265]\n",
      " [23.50531855  2.23606798 10.9658561 ]\n",
      " [15.89024858 10.44030651  2.06155281]\n",
      " [13.72953022 14.56021978  2.06155281]\n",
      " [ 2.91547595 26.87005769 17.00735135]]\n",
      "Labels:\n",
      "[0 1 1 2 2 0]\n",
      "Updated centroids\n",
      "[[16.5  9.5]\n",
      " [-1.  -7. ]\n",
      " [ 2.5  5. ]]\n",
      "> Iterating over original centroids and currently updated centroids\n",
      "> Original centroid\n",
      "[16.5  9.5]\n",
      "> Updated centroid\n",
      "[16.5  9.5]\n",
      "> Centroid difference\n",
      "0.0\n",
      "> Original centroid\n",
      "[-1. -7.]\n",
      "> Updated centroid\n",
      "[-1. -7.]\n",
      "> Centroid difference\n",
      "0.0\n",
      "> Original centroid\n",
      "[2.5 5. ]\n",
      "> Updated centroid\n",
      "[2.5 5. ]\n",
      "> Centroid difference\n",
      "0.0\n",
      "Stopping at iteration 2 since tolerance was not surpassed by any centroid difference\n",
      "Final centroids:\n",
      "[[16.5  9.5]\n",
      " [-1.  -7. ]\n",
      " [ 2.5  5. ]]\n"
     ]
    },
    {
     "data": {
      "text/plain": [
       "array([0, 1, 1, 2, 2, 0])"
      ]
     },
     "execution_count": 8,
     "metadata": {},
     "output_type": "execute_result"
    }
   ],
   "source": [
    "clst = KMeansClustering()\n",
    "\n",
    "y_pred = clst.fit(X, y)\n",
    "\n",
    "y_pred"
   ]
  },
  {
   "cell_type": "code",
   "execution_count": 9,
   "id": "670f2a97",
   "metadata": {},
   "outputs": [
    {
     "data": {
      "image/png": "[encoded data removed]",
      "text/plain": [
       "<Figure size 576x576 with 1 Axes>"
      ]
     },
     "metadata": {
      "needs_background": "light"
     },
     "output_type": "display_data"
    }
   ],
   "source": [
    "plt.figure(figsize=(8, 8))\n",
    "\n",
    "# Plot clusters\n",
    "for label in np.unique(clst.labels_):\n",
    "    plt.scatter(\n",
    "        X[y_pred == label, 0], X[y_pred == label, 1],\n",
    "        s=60,\n",
    "        label=f'Cluster {label}'\n",
    "    )\n",
    "\n",
    "# Plot centroids\n",
    "for i, centroid in enumerate(clst.cluster_centers_):\n",
    "    plt.scatter(centroid[0], centroid[1], s=150, marker='*', label=f'Centroid {i}')\n",
    "\n",
    "plt.legend()\n",
    "plt.grid()\n",
    "plt.savefig('p01.png', dpi=300)\n",
    "plt.show()"
   ]
  },
  {
   "cell_type": "code",
   "execution_count": 10,
   "id": "7beb7d27",
   "metadata": {},
   "outputs": [
    {
     "data": {
      "text/plain": [
       "array([0, 1, 1, 2, 2, 0])"
      ]
     },
     "execution_count": 10,
     "metadata": {},
     "output_type": "execute_result"
    }
   ],
   "source": [
    "clst.predict(X)"
   ]
  }
 ],
 "metadata": {
  "kernelspec": {
   "display_name": "Python 3 (ipykernel)",
   "language": "python",
   "name": "python3"
  },
  "language_info": {
   "codemirror_mode": {
    "name": "ipython",
    "version": 3
   },
   "file_extension": ".py",
   "mimetype": "text/x-python",
   "name": "python",
   "nbconvert_exporter": "python",
   "pygments_lexer": "ipython3",
   "version": "3.8.10"
  }
 },
 "nbformat": 4,
 "nbformat_minor": 5
}
