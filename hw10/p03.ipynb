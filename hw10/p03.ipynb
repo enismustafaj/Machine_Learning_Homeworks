{
 "cells": [
  {
   "cell_type": "code",
   "execution_count": 1,
   "id": "fd2e8892",
   "metadata": {},
   "outputs": [],
   "source": [
    "import numpy as np\n",
    "\n",
    "from sklearn.decomposition import PCA"
   ]
  },
  {
   "cell_type": "code",
   "execution_count": 2,
   "id": "2c106eee",
   "metadata": {},
   "outputs": [],
   "source": [
    "class PrincipalComponentAnalysis:\n",
    "    \n",
    "    def __init__(self, n_components=None):\n",
    "        self.n_components = n_components\n",
    "        \n",
    "    def set_params(self, n_components=None):\n",
    "        if n_components:\n",
    "            self.n_components = n_components\n",
    "        \n",
    "    def fit(self, data):\n",
    "        if data is None:\n",
    "            raise Exception('Feature data has not bee provided')\n",
    "\n",
    "        self.mean_ = np.mean(data, axis=0)\n",
    "\n",
    "        data = data - self.mean_\n",
    "        \n",
    "        self.n_samples_ = data.shape[0]\n",
    "        self.n_features_ = data.shape[1]\n",
    "        \n",
    "        if self.n_components is None:\n",
    "            self.n_components = min(self.n_samples_, self.n_features_)\n",
    "        \n",
    "        self.n_components_ = self.n_components\n",
    "        \n",
    "        cov = data.T.dot(data) / (self.n_samples_ - 1)\n",
    "        \n",
    "        eig_vals, eig_vecs = np.linalg.eig(cov)\n",
    "        \n",
    "        self.singular_values_ = eig_vals[: self.n_components]\n",
    "        self.components_ = eig_vecs[:, : self.n_components]\n",
    "        \n",
    "        return self\n",
    "    \n",
    "    def fit_transform(self, data):\n",
    "        if data is None:\n",
    "            raise Exception('Feature data has not bee provided')\n",
    "            \n",
    "        self.fit(data)\n",
    "        \n",
    "        return np.dot(self.components_.T, data.T)\n",
    "            \n",
    "    def inverse_transform(self, data):\n",
    "        if data is None:\n",
    "            raise Exception('Feature data has not bee provided')\n",
    "            \n",
    "        return np.matmul(self.components_, data).T + self.mean_"
   ]
  },
  {
   "cell_type": "code",
   "execution_count": 3,
   "id": "17fd3561",
   "metadata": {},
   "outputs": [],
   "source": [
    "class LossyDataCompression:\n",
    "    ''' Compress data in a lossy way using PCA to decide on the number of important features '''\n",
    "    \n",
    "    def __init__(self):\n",
    "        self.pca = PrincipalComponentAnalysis()\n",
    "        \n",
    "    def compress(self, data, desired_components=200):        \n",
    "        self.pca.set_params(n_components=desired_components)\n",
    "        \n",
    "        return pca.fit_transform(data)\n",
    "    \n",
    "    def decompress(self, data):\n",
    "        return self.pca.inverse_transform(data)"
   ]
  },
  {
   "cell_type": "code",
   "execution_count": 4,
   "id": "06e9ba4d",
   "metadata": {},
   "outputs": [],
   "source": [
    "X = np.array([[-1, -1], [-2, -1], [-3, -2], [1, 1], [2, 1], [3, 2]])"
   ]
  },
  {
   "cell_type": "code",
   "execution_count": 5,
   "id": "8939b6e0",
   "metadata": {},
   "outputs": [
    {
     "name": "stdout",
     "output_type": "stream",
     "text": [
      "[[ 1.38340578  0.2935787 ]\n",
      " [ 2.22189802 -0.25133484]\n",
      " [ 3.6053038   0.04224385]\n",
      " [-1.38340578 -0.2935787 ]\n",
      " [-2.22189802  0.25133484]\n",
      " [-3.6053038  -0.04224385]]\n",
      "[[-1. -1.]\n",
      " [-2. -1.]\n",
      " [-3. -2.]\n",
      " [ 1.  1.]\n",
      " [ 2.  1.]\n",
      " [ 3.  2.]]\n"
     ]
    }
   ],
   "source": [
    "pca = PCA(n_components=2)\n",
    "pca.fit(X)\n",
    "\n",
    "x_reduced = pca.fit_transform(X)\n",
    "print(x_reduced)\n",
    "\n",
    "x_recovered = pca.inverse_transform(x_reduced)\n",
    "print(x_recovered)"
   ]
  },
  {
   "cell_type": "code",
   "execution_count": 6,
   "id": "1c0b42e4",
   "metadata": {},
   "outputs": [
    {
     "name": "stdout",
     "output_type": "stream",
     "text": [
      "[[-1.38340578 -2.22189802 -3.6053038   1.38340578  2.22189802  3.6053038 ]\n",
      " [-0.2935787   0.25133484 -0.04224385  0.2935787  -0.25133484  0.04224385]]\n",
      "[[-1. -1.]\n",
      " [-2. -1.]\n",
      " [-3. -2.]\n",
      " [ 1.  1.]\n",
      " [ 2.  1.]\n",
      " [ 3.  2.]]\n"
     ]
    }
   ],
   "source": [
    "pca_i = PrincipalComponentAnalysis(n_components=2)\n",
    "pca_i.fit(X)\n",
    "\n",
    "x_reduced = pca_i.fit_transform(X)\n",
    "print(x_reduced)\n",
    "\n",
    "x_recovered = pca_i.inverse_transform(x_reduced)\n",
    "print(x_recovered)"
   ]
  }
 ],
 "metadata": {
  "kernelspec": {
   "display_name": "Python 3 (ipykernel)",
   "language": "python",
   "name": "python3"
  },
  "language_info": {
   "codemirror_mode": {
    "name": "ipython",
    "version": 3
   },
   "file_extension": ".py",
   "mimetype": "text/x-python",
   "name": "python",
   "nbconvert_exporter": "python",
   "pygments_lexer": "ipython3",
   "version": "3.8.10"
  }
 },
 "nbformat": 4,
 "nbformat_minor": 5
}
