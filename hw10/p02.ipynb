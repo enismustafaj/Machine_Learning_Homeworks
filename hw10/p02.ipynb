{
 "cells": [
  {
   "cell_type": "code",
   "execution_count": 1,
   "id": "322854f1",
   "metadata": {},
   "outputs": [],
   "source": [
    "import matplotlib.pyplot as plt\n",
    "import numpy as np\n",
    "\n",
    "from sklearn.decomposition import PCA"
   ]
  },
  {
   "cell_type": "code",
   "execution_count": 2,
   "id": "fce8fc93",
   "metadata": {},
   "outputs": [],
   "source": [
    "X = np.array([\n",
    "    [3, 2],\n",
    "    [-1, 0],\n",
    "    [7, 1]\n",
    "])"
   ]
  },
  {
   "cell_type": "code",
   "execution_count": 3,
   "id": "71df4f7d",
   "metadata": {},
   "outputs": [],
   "source": [
    "X_mean = np.mean(X, axis=0)"
   ]
  },
  {
   "cell_type": "code",
   "execution_count": 4,
   "id": "b2310a97",
   "metadata": {},
   "outputs": [
    {
     "data": {
      "text/plain": [
       "array([3., 1.])"
      ]
     },
     "execution_count": 4,
     "metadata": {},
     "output_type": "execute_result"
    }
   ],
   "source": [
    "X_mean"
   ]
  },
  {
   "cell_type": "code",
   "execution_count": 5,
   "id": "b92d9ac1",
   "metadata": {},
   "outputs": [],
   "source": [
    "X_centered = X - X_mean"
   ]
  },
  {
   "cell_type": "code",
   "execution_count": 6,
   "id": "055235dd",
   "metadata": {},
   "outputs": [],
   "source": [
    "u, s, vh = np.linalg.svd(X_centered, full_matrices=True)"
   ]
  },
  {
   "cell_type": "code",
   "execution_count": 7,
   "id": "b73327e1",
   "metadata": {
    "scrolled": true
   },
   "outputs": [
    {
     "data": {
      "text/plain": [
       "array([[-0.9915228 , -0.12993279],\n",
       "       [ 0.12993279, -0.9915228 ]])"
      ]
     },
     "execution_count": 7,
     "metadata": {},
     "output_type": "execute_result"
    }
   ],
   "source": [
    "vh"
   ]
  },
  {
   "cell_type": "code",
   "execution_count": 8,
   "id": "bf3d3df9",
   "metadata": {},
   "outputs": [
    {
     "data": {
      "text/plain": [
       "array([5.70299699, 1.2148355 ])"
      ]
     },
     "execution_count": 8,
     "metadata": {},
     "output_type": "execute_result"
    }
   ],
   "source": [
    "s"
   ]
  },
  {
   "cell_type": "code",
   "execution_count": 9,
   "id": "d08794ed",
   "metadata": {},
   "outputs": [],
   "source": [
    "A = X_centered.T @ X_centered"
   ]
  },
  {
   "cell_type": "code",
   "execution_count": 10,
   "id": "b5b91f3a",
   "metadata": {},
   "outputs": [
    {
     "data": {
      "text/plain": [
       "array([[32.,  4.],\n",
       "       [ 4.,  2.]])"
      ]
     },
     "execution_count": 10,
     "metadata": {},
     "output_type": "execute_result"
    }
   ],
   "source": [
    "A"
   ]
  },
  {
   "cell_type": "code",
   "execution_count": 11,
   "id": "7376a9a2",
   "metadata": {},
   "outputs": [
    {
     "data": {
      "text/plain": [
       "(array([32.5241747,  1.4758253]),\n",
       " array([[ 0.9915228 , -0.12993279],\n",
       "        [ 0.12993279,  0.9915228 ]]))"
      ]
     },
     "execution_count": 11,
     "metadata": {},
     "output_type": "execute_result"
    }
   ],
   "source": [
    "np.linalg.eig(A)"
   ]
  },
  {
   "cell_type": "code",
   "execution_count": 22,
   "id": "8ea7c207",
   "metadata": {},
   "outputs": [],
   "source": [
    "covmat = None"
   ]
  },
  {
   "cell_type": "code",
   "execution_count": 25,
   "id": "d0899d1c",
   "metadata": {},
   "outputs": [
    {
     "data": {
      "text/plain": [
       "(array([32.5241747,  1.4758253]),\n",
       " array([[ 0.9915228 , -0.12993279],\n",
       "        [ 0.12993279,  0.9915228 ]]))"
      ]
     },
     "execution_count": 25,
     "metadata": {},
     "output_type": "execute_result"
    }
   ],
   "source": [
    "prod = np.dot(X_centered.T, X_centered, out=covmat)\n",
    "np.linalg.eig(prod)"
   ]
  },
  {
   "cell_type": "code",
   "execution_count": 12,
   "id": "d7800795",
   "metadata": {},
   "outputs": [
    {
     "data": {
      "text/plain": [
       "PCA()"
      ]
     },
     "execution_count": 12,
     "metadata": {},
     "output_type": "execute_result"
    }
   ],
   "source": [
    "pca = PCA()\n",
    "\n",
    "pca.fit(X)"
   ]
  },
  {
   "cell_type": "code",
   "execution_count": 13,
   "id": "ee3b24db",
   "metadata": {},
   "outputs": [
    {
     "data": {
      "text/plain": [
       "array([[-0.9915228 , -0.12993279],\n",
       "       [-0.12993279,  0.9915228 ]])"
      ]
     },
     "execution_count": 13,
     "metadata": {},
     "output_type": "execute_result"
    }
   ],
   "source": [
    "pca.components_"
   ]
  },
  {
   "cell_type": "code",
   "execution_count": 14,
   "id": "4a6797e8",
   "metadata": {},
   "outputs": [
    {
     "data": {
      "text/plain": [
       "array([5.70299699, 1.2148355 ])"
      ]
     },
     "execution_count": 14,
     "metadata": {},
     "output_type": "execute_result"
    }
   ],
   "source": [
    "pca.singular_values_"
   ]
  }
 ],
 "metadata": {
  "kernelspec": {
   "display_name": "Python 3 (ipykernel)",
   "language": "python",
   "name": "python3"
  },
  "language_info": {
   "codemirror_mode": {
    "name": "ipython",
    "version": 3
   },
   "file_extension": ".py",
   "mimetype": "text/x-python",
   "name": "python",
   "nbconvert_exporter": "python",
   "pygments_lexer": "ipython3",
   "version": "3.8.10"
  }
 },
 "nbformat": 4,
 "nbformat_minor": 5
}
