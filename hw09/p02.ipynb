{
 "cells": [
  {
   "cell_type": "code",
   "execution_count": 1,
   "id": "fda0b93d",
   "metadata": {},
   "outputs": [],
   "source": [
    "import numpy as np\n",
    "\n",
    "from sklearn.discriminant_analysis import LinearDiscriminantAnalysis"
   ]
  },
  {
   "cell_type": "code",
   "execution_count": 2,
   "id": "057ff83f",
   "metadata": {},
   "outputs": [],
   "source": [
    "X_train = np.array([\n",
    "    [-2.1],\n",
    "    [-0.9],\n",
    "    [0.6],\n",
    "    [1.5],\n",
    "    [2.7]\n",
    "])\n",
    "\n",
    "y_train = np.array([\n",
    "    [1],\n",
    "    [1],\n",
    "    [2],\n",
    "    [2],\n",
    "    [2]\n",
    "])\n",
    "\n",
    "X_test = np.array([\n",
    "    [-1.2],\n",
    "    [0.5],\n",
    "    [1.4]\n",
    "])\n",
    "\n",
    "y_test = np.array([\n",
    "    [1],\n",
    "    [1],\n",
    "    [2]\n",
    "])\n",
    "\n",
    "train_set_size = X_train.shape[0]"
   ]
  },
  {
   "cell_type": "code",
   "execution_count": 3,
   "id": "7560484b",
   "metadata": {},
   "outputs": [
    {
     "name": "stderr",
     "output_type": "stream",
     "text": [
      "/home/dante/Documents/git/Machine_Learning_Homeworks/.venv/lib/python3.8/site-packages/sklearn/utils/validation.py:993: DataConversionWarning: A column-vector y was passed when a 1d array was expected. Please change the shape of y to (n_samples, ), for example using ravel().\n",
      "  y = column_or_1d(y, warn=True)\n"
     ]
    },
    {
     "data": {
      "text/plain": [
       "LinearDiscriminantAnalysis()"
      ]
     },
     "execution_count": 3,
     "metadata": {},
     "output_type": "execute_result"
    }
   ],
   "source": [
    "clf = LinearDiscriminantAnalysis()\n",
    "clf.fit(X_train, y_train)"
   ]
  },
  {
   "cell_type": "code",
   "execution_count": 4,
   "id": "dd9530a4",
   "metadata": {},
   "outputs": [
    {
     "name": "stdout",
     "output_type": "stream",
     "text": [
      "Validation of [[-1.2]] with output [1.]\n",
      "Validation of [[0.5]] with output [1.]\n",
      "Prediction: [2]\n",
      "True: [1.]\n",
      "Validation of [[1.4]] with output [2.]\n",
      "1\n"
     ]
    }
   ],
   "source": [
    "error = 0\n",
    "\n",
    "for test_data_point in np.append(X_test, y_test, axis=1):\n",
    "    x_test_point, y_test_point = np.array([test_data_point[:X_train.shape[1]]]), test_data_point[X_train.shape[1]:]\n",
    "    print('Validation of', x_test_point, 'with output',  y_test_point)\n",
    "    \n",
    "    y_pred = clf.predict(x_test_point)\n",
    "    \n",
    "    if y_pred != y_test_point:\n",
    "        print('Prediction:', y_pred)\n",
    "        print('True:', y_test_point)\n",
    "        error += 1\n",
    "\n",
    "print(error)"
   ]
  },
  {
   "cell_type": "code",
   "execution_count": 5,
   "id": "ffccbb70",
   "metadata": {},
   "outputs": [],
   "source": [
    "classes = np.unique(y_train)"
   ]
  },
  {
   "cell_type": "code",
   "execution_count": 6,
   "id": "cdfa54f6",
   "metadata": {},
   "outputs": [],
   "source": [
    "class_sizes = [len(y_train[y_train == class_out]) for class_out in classes]"
   ]
  },
  {
   "cell_type": "code",
   "execution_count": 7,
   "id": "d4ad1ceb",
   "metadata": {},
   "outputs": [],
   "source": [
    "p_gs = [class_size / train_set_size for class_size in class_sizes]"
   ]
  },
  {
   "cell_type": "code",
   "execution_count": 8,
   "id": "73767423",
   "metadata": {},
   "outputs": [
    {
     "data": {
      "text/plain": [
       "[0.4, 0.6]"
      ]
     },
     "execution_count": 8,
     "metadata": {},
     "output_type": "execute_result"
    }
   ],
   "source": [
    "p_gs"
   ]
  },
  {
   "cell_type": "code",
   "execution_count": 9,
   "id": "3ea2a190",
   "metadata": {},
   "outputs": [],
   "source": [
    "mean_gs = [np.sum(X_train[y_train == class_out]) / class_size for class_out, class_size in zip(classes, class_sizes)]"
   ]
  },
  {
   "cell_type": "code",
   "execution_count": 10,
   "id": "7f69593f",
   "metadata": {},
   "outputs": [
    {
     "data": {
      "text/plain": [
       "[-1.5, 1.6000000000000003]"
      ]
     },
     "execution_count": 10,
     "metadata": {},
     "output_type": "execute_result"
    }
   ],
   "source": [
    "mean_gs"
   ]
  },
  {
   "cell_type": "code",
   "execution_count": 11,
   "id": "fa0791b6",
   "metadata": {},
   "outputs": [
    {
     "name": "stdout",
     "output_type": "stream",
     "text": [
      "0.9800000000000002\n"
     ]
    }
   ],
   "source": [
    "var = 0\n",
    "\n",
    "for class_out, p_g, mean_g in zip(classes, p_gs, mean_gs):\n",
    "    for x_train_entry in X_train[y_train == class_out]:\n",
    "        var += np.power(x_train_entry - mean_g, 2) / (train_set_size - len(classes))\n",
    "        \n",
    "print(var)"
   ]
  },
  {
   "cell_type": "code",
   "execution_count": 12,
   "id": "c71898cb",
   "metadata": {},
   "outputs": [
    {
     "name": "stdout",
     "output_type": "stream",
     "text": [
      "Predicting [-1.2] with output [1.]\n",
      "Prediction for class 1 is [-0.22751522]\n",
      "Prediction for class 2 is [-3.77613175]\n",
      "Predicted class is 1\n",
      "Predicting [0.5] with output [1.]\n",
      "Prediction for class 1 is [-2.82955604]\n",
      "Prediction for class 2 is [-1.00062154]\n",
      "Predicted class is 2\n",
      ">>Incorrect prediction\n",
      "Predicting [1.4] with output [2.]\n",
      "Prediction for class 1 is [-4.20710706]\n",
      "Prediction for class 2 is [0.46876621]\n",
      "Predicted class is 2\n",
      "1\n"
     ]
    }
   ],
   "source": [
    "error = 0\n",
    "\n",
    "for test_data_entry in np.append(X_test, y_test, axis=1):\n",
    "    x_test_point, y_test_point = test_data_entry[:X_train.shape[1]], test_data_entry[X_train.shape[1]:]\n",
    "    \n",
    "    print('Predicting', x_test_point, 'with output', y_test_point)\n",
    "    predictions = []\n",
    "    \n",
    "    for class_out, p_g, mean_g in zip(classes, p_gs, mean_gs):\n",
    "        class_pred = np.log(p_g) + x_test_point * mean_g / var - 0.5 * np.power(mean_g, 2) / var\n",
    "        predictions.append(class_pred)\n",
    "        \n",
    "        print('Prediction for class', class_out, 'is', class_pred)\n",
    "    \n",
    "    print('Predicted class is', np.argmax(predictions) + 1)\n",
    "    \n",
    "    if np.argmax(predictions) + 1 != y_test_point:\n",
    "        print('>>Incorrect prediction')\n",
    "        error += 1\n",
    "        /\n",
    "        \n",
    "print(error)"
   ]
  }
 ],
 "metadata": {
  "kernelspec": {
   "display_name": "Python 3 (ipykernel)",
   "language": "python",
   "name": "python3"
  },
  "language_info": {
   "codemirror_mode": {
    "name": "ipython",
    "version": 3
   },
   "file_extension": ".py",
   "mimetype": "text/x-python",
   "name": "python",
   "nbconvert_exporter": "python",
   "pygments_lexer": "ipython3",
   "version": "3.8.10"
  }
 },
 "nbformat": 4,
 "nbformat_minor": 5
}
