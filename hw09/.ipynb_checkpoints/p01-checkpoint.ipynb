{
 "cells": [
  {
   "cell_type": "code",
   "execution_count": 1,
   "id": "c3e7b0e6",
   "metadata": {},
   "outputs": [],
   "source": [
    "import numpy as np\n",
    "import pandas as pd"
   ]
  },
  {
   "cell_type": "code",
   "execution_count": 2,
   "id": "5e149b0d",
   "metadata": {},
   "outputs": [],
   "source": [
    "X_train = np.array([\n",
    "    [1, 0.3],\n",
    "    [1, 1.8],\n",
    "    [1, 1.5],\n",
    "    [1, 4.8],\n",
    "    [1, 2.6]\n",
    "])\n",
    "\n",
    "y_train = np.array([\n",
    "    1,\n",
    "    1,\n",
    "    1,\n",
    "    2,\n",
    "    2\n",
    "])\n",
    "\n",
    "y_train = pd.get_dummies(y_train).to_numpy()"
   ]
  },
  {
   "cell_type": "code",
   "execution_count": 3,
   "id": "c9e5fa41",
   "metadata": {},
   "outputs": [
    {
     "data": {
      "text/plain": [
       "array([[1, 0],\n",
       "       [1, 0],\n",
       "       [1, 0],\n",
       "       [0, 1],\n",
       "       [0, 1]], dtype=uint8)"
      ]
     },
     "execution_count": 3,
     "metadata": {},
     "output_type": "execute_result"
    }
   ],
   "source": [
    "y_train"
   ]
  },
  {
   "cell_type": "code",
   "execution_count": 4,
   "id": "1ff72fb2",
   "metadata": {},
   "outputs": [],
   "source": [
    "C = X_train.T @ y_train"
   ]
  },
  {
   "cell_type": "code",
   "execution_count": 5,
   "id": "ce923d4c",
   "metadata": {},
   "outputs": [
    {
     "data": {
      "text/plain": [
       "array([[3. , 2. ],\n",
       "       [3.6, 7.4]])"
      ]
     },
     "execution_count": 5,
     "metadata": {},
     "output_type": "execute_result"
    }
   ],
   "source": [
    "C"
   ]
  },
  {
   "cell_type": "code",
   "execution_count": 6,
   "id": "d4c42d18",
   "metadata": {},
   "outputs": [],
   "source": [
    "A = X_train.T @ X_train"
   ]
  },
  {
   "cell_type": "code",
   "execution_count": 7,
   "id": "ec2e92c8",
   "metadata": {},
   "outputs": [
    {
     "data": {
      "text/plain": [
       "array([[ 5.  , 11.  ],\n",
       "       [11.  , 35.38]])"
      ]
     },
     "execution_count": 7,
     "metadata": {},
     "output_type": "execute_result"
    }
   ],
   "source": [
    "A"
   ]
  },
  {
   "cell_type": "code",
   "execution_count": 8,
   "id": "0978d266",
   "metadata": {},
   "outputs": [],
   "source": [
    "B = np.linalg.solve(A, C)"
   ]
  },
  {
   "cell_type": "code",
   "execution_count": 9,
   "id": "78867e3b",
   "metadata": {},
   "outputs": [
    {
     "data": {
      "text/plain": [
       "array([[ 1.19033989, -0.19033989],\n",
       "       [-0.26833631,  0.26833631]])"
      ]
     },
     "execution_count": 9,
     "metadata": {},
     "output_type": "execute_result"
    }
   ],
   "source": [
    "B"
   ]
  },
  {
   "cell_type": "code",
   "execution_count": 10,
   "id": "d0eec1bc",
   "metadata": {},
   "outputs": [],
   "source": [
    "y_1_class_post = np.array([1, 2.4]) @ B\n",
    "y_2_class_post = np.array([1, 6.2]) @ B"
   ]
  },
  {
   "cell_type": "code",
   "execution_count": 11,
   "id": "70046bde",
   "metadata": {},
   "outputs": [
    {
     "data": {
      "text/plain": [
       "array([0.54633274, 0.45366726])"
      ]
     },
     "execution_count": 11,
     "metadata": {},
     "output_type": "execute_result"
    }
   ],
   "source": [
    "y_1_class_post"
   ]
  },
  {
   "cell_type": "code",
   "execution_count": 12,
   "id": "7302bef2",
   "metadata": {
    "scrolled": true
   },
   "outputs": [
    {
     "data": {
      "text/plain": [
       "array([-0.47334526,  1.47334526])"
      ]
     },
     "execution_count": 12,
     "metadata": {},
     "output_type": "execute_result"
    }
   ],
   "source": [
    "y_2_class_post"
   ]
  },
  {
   "cell_type": "code",
   "execution_count": 13,
   "id": "e686cf0f",
   "metadata": {},
   "outputs": [
    {
     "data": {
      "text/plain": [
       "array([[1. , 0.3, 1. , 0. ],\n",
       "       [1. , 1.8, 1. , 0. ],\n",
       "       [1. , 1.5, 1. , 0. ],\n",
       "       [1. , 4.8, 0. , 1. ],\n",
       "       [1. , 2.6, 0. , 1. ]])"
      ]
     },
     "execution_count": 13,
     "metadata": {},
     "output_type": "execute_result"
    }
   ],
   "source": [
    "np.append(X_train, y_train, axis=1)"
   ]
  },
  {
   "cell_type": "code",
   "execution_count": 14,
   "id": "a66e4782",
   "metadata": {},
   "outputs": [
    {
     "name": "stdout",
     "output_type": "stream",
     "text": [
      "Class posteriors: [ 1.109839 -0.109839]\n",
      "Predicted class index: 0\n",
      "Class posteriors: [0.70733453 0.29266547]\n",
      "Predicted class index: 0\n",
      "Class posteriors: [0.78783542 0.21216458]\n",
      "Predicted class index: 0\n",
      "Class posteriors: [-0.09767442  1.09767442]\n",
      "Predicted class index: 1\n",
      "Class posteriors: [0.49266547 0.50733453]\n",
      "Predicted class index: 1\n",
      "0\n"
     ]
    }
   ],
   "source": [
    "error = 0\n",
    "\n",
    "for data_entry in np.append(X_train, y_train, axis=1):\n",
    "    x_train_entry, y_train_entry = data_entry[:X_train.shape[1]], data_entry[X_train.shape[1]:]\n",
    "    y_train_entry_value = np.argmax(y_train_entry)\n",
    "    y_class_post = x_train_entry @ B\n",
    "    y_pred = np.argmax(y_class_post)\n",
    "    \n",
    "    print('Class posteriors:', y_class_post)\n",
    "    print('Predicted class index:', y_pred)\n",
    "    \n",
    "    if y_pred != y_train_entry_value:\n",
    "        error += 1\n",
    "\n",
    "print(error)"
   ]
  }
 ],
 "metadata": {
  "kernelspec": {
   "display_name": "Python 3 (ipykernel)",
   "language": "python",
   "name": "python3"
  },
  "language_info": {
   "codemirror_mode": {
    "name": "ipython",
    "version": 3
   },
   "file_extension": ".py",
   "mimetype": "text/x-python",
   "name": "python",
   "nbconvert_exporter": "python",
   "pygments_lexer": "ipython3",
   "version": "3.8.10"
  }
 },
 "nbformat": 4,
 "nbformat_minor": 5
}
