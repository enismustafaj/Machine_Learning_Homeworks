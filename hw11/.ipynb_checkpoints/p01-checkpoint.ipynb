{
 "cells": [
  {
   "cell_type": "code",
   "execution_count": 1,
   "id": "6e1fbeef",
   "metadata": {},
   "outputs": [],
   "source": [
    "import numpy as np\n",
    "import matplotlib.pyplot as plt\n",
    "\n",
    "from sklearn.linear_model import LinearRegression as SKLinearRegression\n",
    "from sklearn.preprocessing import PolynomialFeatures"
   ]
  },
  {
   "cell_type": "code",
   "execution_count": 2,
   "id": "43f6f386",
   "metadata": {},
   "outputs": [],
   "source": [
    "X_train = np.array([\n",
    "    [-1],\n",
    "    [0],\n",
    "    [2]\n",
    "])\n",
    "\n",
    "y_train = np.array([\n",
    "    -1,\n",
    "    -4,\n",
    "    2\n",
    "])"
   ]
  },
  {
   "cell_type": "code",
   "execution_count": 3,
   "id": "574ed2a4",
   "metadata": {},
   "outputs": [],
   "source": [
    "class LinearRegression:\n",
    "    \n",
    "    def __init__(self, add_intercept=True):\n",
    "        self.add_intercept = add_intercept\n",
    "    \n",
    "    def fit(self, X_train, y_train):\n",
    "        if X_train is None:\n",
    "            raise Exception('Training feature data has not bee provided')\n",
    "        \n",
    "        if y_train is None:\n",
    "            raise Exception('Training prediction data has not been provided')\n",
    "        \n",
    "        if (self.add_intercept):\n",
    "            self.X_train = np.concatenate((np.ones(((X_train.shape[0]), 1)), X_train), axis=1)\n",
    "        else:\n",
    "            self.X_train = X_train\n",
    "            \n",
    "        print('X:')\n",
    "        print(self.X_train)\n",
    "        print('X.T:')\n",
    "        print(self.X_train.T)\n",
    "            \n",
    "        self.y_train = y_train\n",
    "        \n",
    "        print('y:')\n",
    "        print(self.y_train)\n",
    "\n",
    "        b = np.matmul(self.X_train.T, self.y_train)\n",
    "        A = np.matmul(self.X_train.T, self.X_train)\n",
    "        \n",
    "        print('b = X.T @ y:')\n",
    "        print(b)\n",
    "        print('A = X.T @ X:')\n",
    "        print(A)\n",
    "        \n",
    "        try:\n",
    "            self.B = np.linalg.solve(A, b)\n",
    "            self.intercept_ = self.B[0]\n",
    "            self.coef_ = self.B[1:]\n",
    "        except:\n",
    "            raise Exception('Singular matrix')\n",
    "        \n",
    "    def predict(self, X_test):\n",
    "        if not hasattr(self, 'B'):\n",
    "            raise Exception('Fit data first')\n",
    "        \n",
    "        if (self.add_intercept):\n",
    "            X_test = np.concatenate((np.ones(((X_test.shape[0]), 1)), X_test), axis=1)\n",
    "            \n",
    "        y_pred = np.matmul(X_test, self.B)\n",
    "        \n",
    "        return y_pred"
   ]
  },
  {
   "cell_type": "code",
   "execution_count": 4,
   "id": "6d6baa50",
   "metadata": {},
   "outputs": [
    {
     "name": "stdout",
     "output_type": "stream",
     "text": [
      "X:\n",
      "[[ 1. -1.]\n",
      " [ 1.  0.]\n",
      " [ 1.  2.]]\n",
      "X.T:\n",
      "[[ 1.  1.  1.]\n",
      " [-1.  0.  2.]]\n",
      "y:\n",
      "[-1 -4  2]\n",
      "b = X.T @ y:\n",
      "[-3.  5.]\n",
      "A = X.T @ X:\n",
      "[[3. 1.]\n",
      " [1. 5.]]\n",
      "Intercept: -1.4285714285714286\n",
      "Coeffs: [1.28571429]\n"
     ]
    }
   ],
   "source": [
    "# Linear Model\n",
    "lr = LinearRegression()\n",
    "\n",
    "lr.fit(X_train, y_train)\n",
    "\n",
    "print('Intercept:', lr.intercept_)\n",
    "print('Coeffs:', lr.coef_)"
   ]
  },
  {
   "cell_type": "code",
   "execution_count": 5,
   "id": "819c761a",
   "metadata": {},
   "outputs": [
    {
     "name": "stdout",
     "output_type": "stream",
     "text": [
      "Intercept: -1.4285714285714284\n",
      "Coeffs: [1.28571429]\n"
     ]
    }
   ],
   "source": [
    "# Scikit-learn Linear Model\n",
    "sklr = SKLinearRegression()\n",
    "\n",
    "sklr.fit(X_train, y_train)\n",
    "\n",
    "print('Intercept:', sklr.intercept_)\n",
    "print('Coeffs:', sklr.coef_)"
   ]
  },
  {
   "cell_type": "code",
   "execution_count": 6,
   "id": "dee19308",
   "metadata": {},
   "outputs": [
    {
     "name": "stdout",
     "output_type": "stream",
     "text": [
      "X:\n",
      "[[ 1. -1.  1.]\n",
      " [ 1.  0.  0.]\n",
      " [ 1.  2.  4.]]\n",
      "X.T:\n",
      "[[ 1.  1.  1.]\n",
      " [-1.  0.  2.]\n",
      " [ 1.  0.  4.]]\n",
      "y:\n",
      "[-1 -4  2]\n",
      "b = X.T @ y:\n",
      "[-3.  5.  7.]\n",
      "A = X.T @ X:\n",
      "[[ 3.  1.  5.]\n",
      " [ 1.  5.  7.]\n",
      " [ 5.  7. 17.]]\n",
      "Intercept: -4.0\n",
      "Coeffs: [-1.  2.]\n"
     ]
    }
   ],
   "source": [
    "# Quadratic Model\n",
    "qr = LinearRegression(add_intercept=False)\n",
    "\n",
    "poly = PolynomialFeatures(2) \n",
    "\n",
    "X_quad_train = poly.fit_transform(X_train)\n",
    "\n",
    "qr.fit(X_quad_train, y_train)\n",
    "\n",
    "print('Intercept:', qr.intercept_)\n",
    "print('Coeffs:', qr.coef_)"
   ]
  },
  {
   "cell_type": "code",
   "execution_count": 7,
   "id": "9cf50880",
   "metadata": {},
   "outputs": [
    {
     "data": {
      "image/png": "[encoded data removed]",
      "text/plain": [
       "<Figure size 504x504 with 1 Axes>"
      ]
     },
     "metadata": {
      "needs_background": "light"
     },
     "output_type": "display_data"
    },
    {
     "data": {
      "text/plain": [
       "<Figure size 432x288 with 0 Axes>"
      ]
     },
     "metadata": {},
     "output_type": "display_data"
    }
   ],
   "source": [
    "# Plot both models and the training points\n",
    "plt.figure(figsize=(7, 7))\n",
    "\n",
    "X_eval = np.linspace(-3, 3, 600).reshape(-1, 1)\n",
    "\n",
    "plt.plot(X_eval, lr.predict(X_eval), color='g', label='Linear regression model')\n",
    "plt.plot(X_eval, qr.predict(poly.fit_transform(X_eval)), color='b', label='Quadratic regression model')\n",
    "plt.plot(X_train, y_train, 'r.', markersize=10, label='Training set')\n",
    "\n",
    "plt.legend()\n",
    "plt.show()\n",
    "plt.savefig('p01.png', dpi=500)"
   ]
  }
 ],
 "metadata": {
  "kernelspec": {
   "display_name": "Python 3 (ipykernel)",
   "language": "python",
   "name": "python3"
  },
  "language_info": {
   "codemirror_mode": {
    "name": "ipython",
    "version": 3
   },
   "file_extension": ".py",
   "mimetype": "text/x-python",
   "name": "python",
   "nbconvert_exporter": "python",
   "pygments_lexer": "ipython3",
   "version": "3.8.10"
  }
 },
 "nbformat": 4,
 "nbformat_minor": 5
}
