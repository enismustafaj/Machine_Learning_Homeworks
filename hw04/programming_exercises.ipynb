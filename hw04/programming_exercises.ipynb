{
 "cells": [
  {
   "cell_type": "markdown",
   "id": "71b05e68",
   "metadata": {},
   "source": [
    "**Programming Exercise 1**"
   ]
  },
  {
   "cell_type": "code",
   "execution_count": 1,
   "id": "5c977638",
   "metadata": {},
   "outputs": [],
   "source": [
    "import numpy as np\n",
    "import matplotlib.pyplot as plt\n",
    "\n",
    "from sklearn.neighbors import KNeighborsRegressor"
   ]
  },
  {
   "cell_type": "code",
   "execution_count": 2,
   "id": "3b3629cd",
   "metadata": {},
   "outputs": [],
   "source": [
    "from abc import ABC, abstractmethod\n",
    "\n",
    "class KNearestNeighbors(ABC):\n",
    "    ''' Base class for implementation of interface of KNN model '''\n",
    "    \n",
    "    def __init__(self, n_neighbors=1):\n",
    "        self.n_neighbors = n_neighbors\n",
    "        self.X_train = None\n",
    "        self.y_train = None\n",
    "\n",
    "    @abstractmethod\n",
    "    def predict(self, X_test):\n",
    "        pass\n",
    "    \n",
    "    def set_params(self, n_neighbors=None):\n",
    "        if n_neighbors:\n",
    "            self.n_neighbors = n_neighbors\n",
    "    \n",
    "    def __find_neighbors(self, x_test):\n",
    "        if self.X_train is None:\n",
    "            raise Exception('Training data has not been loaded')\n",
    "            \n",
    "        if x_test is None:\n",
    "            raise Exception('Test data has not been provided')\n",
    "            \n",
    "        distances = list()\n",
    "            \n",
    "        for i, x_train in enumerate(self.X_train):\n",
    "            distance = np.linalg.norm(x_train - x_test)\n",
    "            distances.append((i, distance))\n",
    "        \n",
    "        distances.sort(key=lambda x: x[1])\n",
    "\n",
    "        return [distance[0] for distance in distances][:self.n_neighbors]\n",
    "    \n",
    "    def retrieve_neighbors(self, X_test):\n",
    "        if X_test is None:\n",
    "            raise Exception('Test data has not been provided')\n",
    "        \n",
    "        return self.__find_neighbors(X_test)\n",
    "    \n",
    "    def fit(self, X_train, y_train):\n",
    "        if X_train is None:\n",
    "            raise Exception('Training feature data has not bee provided')\n",
    "        \n",
    "        if y_train is None:\n",
    "            raise Exception('Training prediction data has not been provided')\n",
    "            \n",
    "        self.X_train = X_train\n",
    "        self.y_train = y_train"
   ]
  },
  {
   "cell_type": "markdown",
   "id": "7787c8be",
   "metadata": {},
   "source": [
    "a) (Re-)implement Example 3.4. This time, however, you need to implement the kNN regression by yourself, without a machine learning library and without a kNN search library. (If you implement in Python, just start from the available Jupyter notebook) Verify the correctness of your implementation by cross-checking it with Example 3.4."
   ]
  },
  {
   "cell_type": "code",
   "execution_count": 3,
   "id": "457473da",
   "metadata": {},
   "outputs": [],
   "source": [
    "class KNearestNeighborsRegressor(KNearestNeighbors):\n",
    "    ''' Implementation for regression tasks using KNN algorithm '''\n",
    "    \n",
    "    def __init__(self, n_neighbors=1):\n",
    "        super().__init__(n_neighbors)\n",
    "\n",
    "    def predict(self, X_test):\n",
    "        return [\n",
    "            np.average([self.y_train[index] for index in self.retrieve_neighbors(x_test)]) for x_test in X_test\n",
    "        ]"
   ]
  },
  {
   "cell_type": "code",
   "execution_count": 4,
   "id": "574ec95c",
   "metadata": {},
   "outputs": [],
   "source": [
    "X_train = np.array([\n",
    "    [0],\n",
    "    [1],\n",
    "    [2],\n",
    "    [3],\n",
    "    [4]\n",
    "])\n",
    "\n",
    "y_train = np.array([\n",
    "    0.0,\n",
    "    0.3,\n",
    "    0.75,\n",
    "    1.0,\n",
    "    2.0\n",
    "])\n",
    "\n",
    "k_values = [1, 2, 3]"
   ]
  },
  {
   "cell_type": "code",
   "execution_count": 5,
   "id": "539f38b3",
   "metadata": {
    "scrolled": true
   },
   "outputs": [
    {
     "data": {
      "image/png": "[encoded data removed]",
      "text/plain": [
       "<Figure size 1440x576 with 3 Axes>"
      ]
     },
     "metadata": {
      "needs_background": "light"
     },
     "output_type": "display_data"
    }
   ],
   "source": [
    "model = KNearestNeighborsRegressor()\n",
    "model.fit(X_train, y_train)\n",
    "\n",
    "X_eval = np.linspace(0, 4, 100)\n",
    "X_eval = X_eval.reshape(-1, 1)\n",
    "\n",
    "fig, axs = plt.subplots(1, len(k_values), figsize=(20, 8))\n",
    "\n",
    "for i, ax in enumerate(axs):\n",
    "    model.set_params(n_neighbors=k_values[i])\n",
    "    \n",
    "    y_pred = model.predict(X_eval)\n",
    "    \n",
    "    ax.plot(X_eval, y_pred, label='kNN regression predictor')\n",
    "    ax.plot(X_train, y_train, 'rs', markersize=12, label='Training set')\n",
    "    \n",
    "    ax.grid()\n",
    "    ax.set_title(f'kNN Regression with k = {k_values[i]}')\n",
    "\n",
    "plt.show()"
   ]
  },
  {
   "cell_type": "markdown",
   "id": "e0cfb1da",
   "metadata": {},
   "source": [
    "Asserting that results are the same with the ones from Example 3.4"
   ]
  },
  {
   "cell_type": "code",
   "execution_count": 6,
   "id": "2b5c73eb",
   "metadata": {},
   "outputs": [
    {
     "name": "stdout",
     "output_type": "stream",
     "text": [
      "Results are the same for k = 1: True\n",
      "Results are the same for k = 2: True\n",
      "Results are the same for k = 3: True\n"
     ]
    }
   ],
   "source": [
    "for k in k_values:\n",
    "    neigh = KNeighborsRegressor(n_neighbors=k)\n",
    "    neigh.fit(X_train, y_train)\n",
    "    \n",
    "    model.set_params(n_neighbors=k)\n",
    "    \n",
    "    print(f'Results are the same for k = {k}: {np.array_equal(model.predict(X_eval), neigh.predict(X_eval))}')"
   ]
  },
  {
   "cell_type": "markdown",
   "id": "44a0714a",
   "metadata": {},
   "source": [
    "b) Apply your implementation to the Energy efficiency Data Set from the UCI Machine Learning Repository. Build the predictor for the required heating load on the full data set and predict the load on the first three samples of the data set and $k = 1$, $k = 3$, $k = 10$."
   ]
  },
  {
   "cell_type": "code",
   "execution_count": null,
   "id": "eb6cba20",
   "metadata": {},
   "outputs": [],
   "source": []
  },
  {
   "cell_type": "markdown",
   "id": "5a76357d",
   "metadata": {},
   "source": [
    "c) (Re-)implement Example 3.5. This time, however you need to implement the kNN classification by yourself, without a machine learning library and without a kNN search library. (If you implement in Python, just start from the available Jupyter notebook) Verify the correctness of your implementation by cross-checking it with Example 3.5."
   ]
  },
  {
   "cell_type": "code",
   "execution_count": 7,
   "id": "3b0fbbe1",
   "metadata": {},
   "outputs": [],
   "source": [
    "class KNearestNeighborsClassifier():\n",
    "    ''' Implementation for regression tasks using KNN algorithm '''\n",
    "    \n",
    "    def __init__(self, X_train, y_train, n_neighbors):\n",
    "        self.X_train = X_train\n",
    "        self.y_train = y_train\n",
    "        self.n_neighbors = n_neighbors\n",
    "        \n",
    "    def predict(self, X_test):\n",
    "        retrieve_label = lambda x_test: np.array([\n",
    "            np.argmax(np.bincount([self.y_train[index] for index in retrieve_neighbors(X_test)]))\n",
    "        ])\n",
    "        \n",
    "        return np.array([retrieve_label for x_test in X_test])"
   ]
  },
  {
   "cell_type": "markdown",
   "id": "bd36c222",
   "metadata": {},
   "source": [
    "d) Now, we would like to use kNN classification for SPAM classification. Either you collect some e-mails (both SPAM and no SPAM) from your Inbox, label them manually and create the representation using your implementation from last week or you use the Spambase Data Set from the UCI Machine Learning Repository. Apply your implementation to one of these data sets and evaluate the predictor for three random samples in the data set and values $k = 1$, $k = 3$, $k = 10$. Compare these results to the training data."
   ]
  },
  {
   "cell_type": "code",
   "execution_count": null,
   "id": "34479ead",
   "metadata": {},
   "outputs": [],
   "source": []
  }
 ],
 "metadata": {
  "kernelspec": {
   "display_name": "Python 3 (ipykernel)",
   "language": "python",
   "name": "python3"
  },
  "language_info": {
   "codemirror_mode": {
    "name": "ipython",
    "version": 3
   },
   "file_extension": ".py",
   "mimetype": "text/x-python",
   "name": "python",
   "nbconvert_exporter": "python",
   "pygments_lexer": "ipython3",
   "version": "3.8.10"
  }
 },
 "nbformat": 4,
 "nbformat_minor": 5
}
