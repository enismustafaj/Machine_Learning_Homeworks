{
 "cells": [
  {
   "cell_type": "markdown",
   "id": "71b05e68",
   "metadata": {},
   "source": [
    "**Programming Exercise 1**"
   ]
  },
  {
   "cell_type": "code",
   "execution_count": 1,
   "id": "5c977638",
   "metadata": {},
   "outputs": [],
   "source": [
    "import numpy as np\n",
    "import matplotlib.pyplot as plt\n",
    "import pandas as pd\n",
    "\n",
    "from sklearn.neighbors import KNeighborsRegressor, KNeighborsClassifier"
   ]
  },
  {
   "cell_type": "code",
   "execution_count": 2,
   "id": "3b3629cd",
   "metadata": {},
   "outputs": [],
   "source": [
    "from abc import ABC, abstractmethod\n",
    "\n",
    "class KNearestNeighbors(ABC):\n",
    "    ''' Base class for implementation of interface of KNN model '''\n",
    "    \n",
    "    def __init__(self, n_neighbors=1):\n",
    "        self.n_neighbors = n_neighbors\n",
    "        self.X_train = None\n",
    "        self.y_train = None\n",
    "\n",
    "    @abstractmethod\n",
    "    def predict(self, X_test):\n",
    "        pass\n",
    "    \n",
    "    def set_params(self, n_neighbors=None):\n",
    "        if n_neighbors:\n",
    "            self.n_neighbors = n_neighbors\n",
    "    \n",
    "    def __find_neighbors(self, x_test):\n",
    "        if self.X_train is None:\n",
    "            raise Exception('Training data has not been loaded')\n",
    "            \n",
    "        if x_test is None:\n",
    "            raise Exception('Test data has not been provided')\n",
    "            \n",
    "        distances = list()\n",
    "        \n",
    "        for i, x_train in enumerate(self.X_train):\n",
    "            distance = np.linalg.norm(x_train - x_test)\n",
    "            distances.append((i, distance))\n",
    "        \n",
    "        distances.sort(key=lambda x: x[1])\n",
    "\n",
    "        return [distance[0] for distance in distances][:self.n_neighbors]\n",
    "    \n",
    "    def retrieve_neighbors(self, X_test):\n",
    "        if X_test is None:\n",
    "            raise Exception('Test data has not been provided')\n",
    "        \n",
    "        return self.__find_neighbors(X_test)\n",
    "    \n",
    "    def fit(self, X_train, y_train):\n",
    "        if X_train is None:\n",
    "            raise Exception('Training feature data has not bee provided')\n",
    "        \n",
    "        if y_train is None:\n",
    "            raise Exception('Training prediction data has not been provided')\n",
    "            \n",
    "        self.X_train = X_train\n",
    "        self.y_train = y_train"
   ]
  },
  {
   "cell_type": "markdown",
   "id": "7787c8be",
   "metadata": {},
   "source": [
    "a) (Re-)implement Example 3.4. This time, however, you need to implement the kNN regression by yourself, without a machine learning library and without a kNN search library. (If you implement in Python, just start from the available Jupyter notebook) Verify the correctness of your implementation by cross-checking it with Example 3.4."
   ]
  },
  {
   "cell_type": "code",
   "execution_count": 3,
   "id": "457473da",
   "metadata": {},
   "outputs": [],
   "source": [
    "class KNearestNeighborsRegressor(KNearestNeighbors):\n",
    "    ''' Implementation for regression tasks using KNN algorithm '''\n",
    "    \n",
    "    def __init__(self, n_neighbors=1):\n",
    "        super().__init__(n_neighbors)\n",
    "\n",
    "    def predict(self, X_test):\n",
    "        return [\n",
    "            np.average([self.y_train[index] for index in self.retrieve_neighbors(x_test)]) for x_test in X_test\n",
    "        ]"
   ]
  },
  {
   "cell_type": "code",
   "execution_count": 4,
   "id": "574ec95c",
   "metadata": {},
   "outputs": [],
   "source": [
    "X_train = np.array([\n",
    "    [0],\n",
    "    [1],\n",
    "    [2],\n",
    "    [3],\n",
    "    [4]\n",
    "])\n",
    "\n",
    "y_train = np.array([\n",
    "    0.0,\n",
    "    0.3,\n",
    "    0.75,\n",
    "    1.0,\n",
    "    2.0\n",
    "])\n",
    "\n",
    "k_values = [1, 2, 3]"
   ]
  },
  {
   "cell_type": "code",
   "execution_count": 5,
   "id": "539f38b3",
   "metadata": {
    "scrolled": true
   },
   "outputs": [],
   "source": [
    "model = KNearestNeighborsRegressor()\n",
    "model.fit(X_train, y_train)\n",
    "\n",
    "X_eval = np.linspace(0, 4, 100)\n",
    "X_eval = X_eval.reshape(-1, 1)"
   ]
  },
  {
   "cell_type": "code",
   "execution_count": 6,
   "id": "06eb4e7b",
   "metadata": {},
   "outputs": [
    {
     "data": {
      "image/png": "[encoded data removed]",
      "text/plain": [
       "<Figure size 1440x360 with 3 Axes>"
      ]
     },
     "metadata": {
      "needs_background": "light"
     },
     "output_type": "display_data"
    }
   ],
   "source": [
    "fig, axs = plt.subplots(1, len(k_values), figsize=(20, 5))\n",
    "\n",
    "for i, ax in enumerate(axs):\n",
    "    model.set_params(n_neighbors=k_values[i])\n",
    "    \n",
    "    y_pred = model.predict(X_eval)\n",
    "    \n",
    "    ax.plot(X_eval, y_pred, label='kNN regression predictor')\n",
    "    ax.plot(X_train, y_train, 'rs', markersize=12, label='Training set')\n",
    "    \n",
    "    ax.grid()\n",
    "    ax.set_title(f'kNN Regression with k = {k_values[i]}')\n",
    "\n",
    "plt.show()"
   ]
  },
  {
   "cell_type": "markdown",
   "id": "e0cfb1da",
   "metadata": {},
   "source": [
    "Asserting that results are the same with the ones from Example 3.4"
   ]
  },
  {
   "cell_type": "code",
   "execution_count": 7,
   "id": "2b5c73eb",
   "metadata": {},
   "outputs": [
    {
     "name": "stdout",
     "output_type": "stream",
     "text": [
      "Results are the same for k = 1: True\n",
      "Results are the same for k = 2: True\n",
      "Results are the same for k = 3: True\n"
     ]
    }
   ],
   "source": [
    "for k in k_values:\n",
    "    model.set_params(n_neighbors=k)\n",
    "    \n",
    "    neigh = KNeighborsRegressor(n_neighbors=k)\n",
    "    neigh.fit(X_train, y_train)\n",
    "    \n",
    "    print(f'Results are the same for k = {k}: {np.array_equal(model.predict(X_eval), neigh.predict(X_eval))}')"
   ]
  },
  {
   "cell_type": "markdown",
   "id": "44a0714a",
   "metadata": {},
   "source": [
    "b) Apply your implementation to the Energy efficiency Data Set from the UCI Machine Learning Repository. Build the predictor for the required heating load on the full data set and predict the load on the first three samples of the data set and $k = 1$, $k = 3$, $k = 10$."
   ]
  },
  {
   "cell_type": "code",
   "execution_count": 8,
   "id": "eb6cba20",
   "metadata": {},
   "outputs": [
    {
     "name": "stdout",
     "output_type": "stream",
     "text": [
      "  % Total    % Received % Xferd  Average Speed   Time    Time     Time  Current\n",
      "                                 Dload  Upload   Total   Spent    Left  Speed\n",
      "100 76189  100 76189    0     0  55693      0  0:00:01  0:00:01 --:--:-- 55653\n"
     ]
    }
   ],
   "source": [
    "!curl -o data.xlsx https://archive.ics.uci.edu/ml/machine-learning-databases/00242/ENB2012_data.xlsx"
   ]
  },
  {
   "cell_type": "code",
   "execution_count": 9,
   "id": "cf158ad1",
   "metadata": {},
   "outputs": [],
   "source": [
    "df = pd.read_excel('./data.xlsx')\n",
    "\n",
    "X_train = df.iloc[:, 0:8].to_numpy()\n",
    "y_train = df.iloc[:, 8].to_numpy()\n",
    "\n",
    "X_eval = df.iloc[:3, 0:8].to_numpy()\n",
    "\n",
    "k_values = [1, 3, 10]"
   ]
  },
  {
   "cell_type": "code",
   "execution_count": 10,
   "id": "417997ad",
   "metadata": {},
   "outputs": [],
   "source": [
    "model = KNearestNeighborsRegressor()\n",
    "model.fit(X_train, y_train)"
   ]
  },
  {
   "cell_type": "code",
   "execution_count": 11,
   "id": "59a8054f",
   "metadata": {},
   "outputs": [
    {
     "name": "stdout",
     "output_type": "stream",
     "text": [
      "Predicted values for k = 1: [15.55, 15.55, 15.55]\n",
      "scikit-learn predicted values for k = 1: [15.55, 15.55, 15.55]\n",
      "\n",
      "Predicted values for k = 3: [18.56, 15.550000000000002, 15.550000000000002]\n",
      "scikit-learn predicted values for k = 3: [18.56, 15.550000000000002, 15.550000000000002]\n",
      "\n",
      "Predicted values for k = 10: [24.097, 23.741999999999997, 23.792]\n",
      "scikit-learn predicted values for k = 10: [24.097, 23.741999999999997, 23.792]\n",
      "\n"
     ]
    }
   ],
   "source": [
    "for k in k_values:\n",
    "    model.set_params(n_neighbors=k)\n",
    "    y_pred = model.predict(X_eval)\n",
    "    print(f'Predicted values for k = {k}: {y_pred}')\n",
    "    \n",
    "    skmodel = KNeighborsRegressor(n_neighbors=k)\n",
    "    skmodel.fit(X_train, y_train)\n",
    "    y_pred = model.predict(X_eval)\n",
    "    print(f'scikit-learn predicted values for k = {k}: {y_pred}\\n')"
   ]
  },
  {
   "cell_type": "markdown",
   "id": "5a76357d",
   "metadata": {},
   "source": [
    "c) (Re-)implement Example 3.5. This time, however you need to implement the kNN classification by yourself, without a machine learning library and without a kNN search library. (If you implement in Python, just start from the available Jupyter notebook) Verify the correctness of your implementation by cross-checking it with Example 3.5."
   ]
  },
  {
   "cell_type": "code",
   "execution_count": 12,
   "id": "3b0fbbe1",
   "metadata": {},
   "outputs": [],
   "source": [
    "class KNearestNeighborsClassifier(KNearestNeighbors):\n",
    "    ''' Implementation for classification tasks using KNN algorithm '''\n",
    "    \n",
    "    def __init__(self, n_neighbors=1):\n",
    "        super().__init__(n_neighbors)\n",
    "        \n",
    "    def predict(self, X_test):\n",
    "        retrieve_label = lambda x_test: np.argmax(np.bincount([self.y_train[index] for index in self.retrieve_neighbors(x_test)]))\n",
    "        \n",
    "        return np.array([retrieve_label(x_test) for x_test in X_test])"
   ]
  },
  {
   "cell_type": "code",
   "execution_count": 13,
   "id": "fb0116c3",
   "metadata": {},
   "outputs": [],
   "source": [
    "np.random.seed(0)\n",
    "N = 30\n",
    "\n",
    "X1 = np.random.multivariate_normal([1, 1], [[1, 0], [0, 1]], N)\n",
    "X1 = np.concatenate((X1, 1.0 * np.ones((N, 1))), axis=1)\n",
    "X2 = np.random.multivariate_normal([-1, -1], [[1, 0], [0, 1]], N)\n",
    "X2 = np.concatenate((X2, 2.0 * np.ones((N, 1))), axis=1)\n",
    "X3 = np.random.multivariate_normal([2, 0], [[1, 0], [0, 1]], N)\n",
    "X3 = np.concatenate((X3, 3.0 * np.ones((N, 1))), axis=1)\n",
    "\n",
    "X = np.concatenate((X1, X2, X3))\n",
    "\n",
    "k = 3"
   ]
  },
  {
   "cell_type": "code",
   "execution_count": 14,
   "id": "7f10e887",
   "metadata": {},
   "outputs": [],
   "source": [
    "model = KNearestNeighborsClassifier(n_neighbors=k)\n",
    "model.fit(X[:, [0, 1]], X[:, 2])"
   ]
  },
  {
   "cell_type": "code",
   "execution_count": 15,
   "id": "300badfa",
   "metadata": {},
   "outputs": [],
   "source": [
    "h = 0.02\n",
    "\n",
    "x_min, x_max = X[:, 0].min() - 1, X[:, 0].max() + 1\n",
    "y_min, y_max = X[:, 1].min() - 1, X[:, 1].max() + 1\n",
    "\n",
    "xx, yy = np.meshgrid(np.arange(x_min, x_max, h), np.arange(y_min, y_max, h))"
   ]
  },
  {
   "cell_type": "code",
   "execution_count": 16,
   "id": "40d5d6ab",
   "metadata": {},
   "outputs": [],
   "source": [
    "y_pred = model.predict(np.c_[xx.ravel(), yy.ravel()])\n",
    "y_pred = y_pred.reshape(xx.shape)"
   ]
  },
  {
   "cell_type": "code",
   "execution_count": 17,
   "id": "7b55cacc",
   "metadata": {
    "scrolled": false
   },
   "outputs": [
    {
     "data": {
      "image/png": "[encoded data removed]",
      "text/plain": [
       "<Figure size 432x288 with 1 Axes>"
      ]
     },
     "metadata": {
      "needs_background": "light"
     },
     "output_type": "display_data"
    }
   ],
   "source": [
    "plt.figure()\n",
    "plt.pcolormesh(xx, yy, y_pred, cmap='Pastel2', shading='auto')\n",
    "\n",
    "plt.scatter(X[:, 0], X[:, 1], c=X[:, 2], cmap='Set2')\n",
    "plt.title('kNN Classification with k = 3')\n",
    "plt.show()"
   ]
  },
  {
   "cell_type": "markdown",
   "id": "0d92fd19",
   "metadata": {},
   "source": [
    "Asserting that results are the same with the ones from Example 3.5"
   ]
  },
  {
   "cell_type": "code",
   "execution_count": 18,
   "id": "8ae4c27c",
   "metadata": {},
   "outputs": [
    {
     "data": {
      "text/plain": [
       "KNeighborsClassifier(n_neighbors=3)"
      ]
     },
     "execution_count": 18,
     "metadata": {},
     "output_type": "execute_result"
    }
   ],
   "source": [
    "neigh = KNeighborsClassifier(n_neighbors=k)\n",
    "neigh.fit(X[:,[0,1]], X[:,2])"
   ]
  },
  {
   "cell_type": "code",
   "execution_count": 19,
   "id": "371cd6ef",
   "metadata": {},
   "outputs": [],
   "source": [
    "Z = neigh.predict(np.c_[xx.ravel(), yy.ravel()])\n",
    "Z = Z.reshape(xx.shape)"
   ]
  },
  {
   "cell_type": "code",
   "execution_count": 20,
   "id": "866fd573",
   "metadata": {},
   "outputs": [
    {
     "data": {
      "image/png": "[encoded data removed]",
      "text/plain": [
       "<Figure size 432x288 with 1 Axes>"
      ]
     },
     "metadata": {
      "needs_background": "light"
     },
     "output_type": "display_data"
    }
   ],
   "source": [
    "plt.figure()\n",
    "plt.pcolormesh(xx, yy, Z, cmap='Pastel2', shading='auto')\n",
    "\n",
    "plt.scatter(X[:, 0], X[:, 1], c=X[:, 2], cmap='Set2')\n",
    "plt.title('scikit-learn kNN Classification with k = 3')\n",
    "plt.show()"
   ]
  },
  {
   "cell_type": "code",
   "execution_count": 21,
   "id": "d9d4ffda",
   "metadata": {},
   "outputs": [
    {
     "name": "stdout",
     "output_type": "stream",
     "text": [
      "Results are the same for k = 3: True\n"
     ]
    }
   ],
   "source": [
    "print(f'Results are the same for k = 3: {np.array_equal(Z, y_pred)}')"
   ]
  },
  {
   "cell_type": "markdown",
   "id": "bd36c222",
   "metadata": {},
   "source": [
    "d) Now, we would like to use kNN classification for SPAM classification. Either you collect some e-mails (both SPAM and no SPAM) from your Inbox, label them manually and create the representation using your implementation from last week or you use the Spambase Data Set from the UCI Machine Learning Repository. Apply your implementation to one of these data sets and evaluate the predictor for three random samples in the data set and values $k = 1$, $k = 3$, $k = 10$. Compare these results to the training data."
   ]
  },
  {
   "cell_type": "code",
   "execution_count": 22,
   "id": "34479ead",
   "metadata": {},
   "outputs": [
    {
     "name": "stdout",
     "output_type": "stream",
     "text": [
      "  % Total    % Received % Xferd  Average Speed   Time    Time     Time  Current\n",
      "                                 Dload  Upload   Total   Spent    Left  Speed\n",
      "100  686k  100  686k    0     0   209k      0  0:00:03  0:00:03 --:--:--  209k\n"
     ]
    }
   ],
   "source": [
    "!curl -o emails.csv https://archive.ics.uci.edu/ml/machine-learning-databases/spambase/spambase.data"
   ]
  },
  {
   "cell_type": "code",
   "execution_count": 23,
   "id": "b34ad6a5",
   "metadata": {
    "scrolled": true
   },
   "outputs": [],
   "source": [
    "df = pd.read_csv('./emails.csv')\n",
    "\n",
    "X_train = df.iloc[:, :57].to_numpy()\n",
    "y_train = df.iloc[:, 57].to_numpy()\n",
    "\n",
    "X_eval = np.array([X_train[x] for x in np.random.randint(4600, size=(3))])\n",
    "\n",
    "k_values = [1, 3, 10]"
   ]
  },
  {
   "cell_type": "code",
   "execution_count": 24,
   "id": "5127b5db",
   "metadata": {},
   "outputs": [],
   "source": [
    "model = KNearestNeighborsClassifier()\n",
    "model.fit(X_train, y_train)"
   ]
  },
  {
   "cell_type": "code",
   "execution_count": 25,
   "id": "85423fe4",
   "metadata": {},
   "outputs": [
    {
     "name": "stdout",
     "output_type": "stream",
     "text": [
      "Predicted values for k = 1: [1 1 0]\n",
      "scikit-learn predicted values for k = 1: [1 1 0]\n",
      "\n",
      "Predicted values for k = 3: [1 1 0]\n",
      "scikit-learn predicted values for k = 3: [1 1 0]\n",
      "\n",
      "Predicted values for k = 10: [0 1 0]\n",
      "scikit-learn predicted values for k = 10: [0 1 0]\n",
      "\n"
     ]
    }
   ],
   "source": [
    "for k in k_values:\n",
    "    model.set_params(n_neighbors=k)\n",
    "    y_pred = model.predict(X_eval)\n",
    "    print(f'Predicted values for k = {k}: {y_pred}')\n",
    "    \n",
    "    skmodel = KNeighborsClassifier(n_neighbors=k)\n",
    "    skmodel.fit(X_train, y_train)\n",
    "    y_pred = model.predict(X_eval)\n",
    "    print(f'scikit-learn predicted values for k = {k}: {y_pred}\\n')"
   ]
  }
 ],
 "metadata": {
  "kernelspec": {
   "display_name": "Python 3 (ipykernel)",
   "language": "python",
   "name": "python3"
  },
  "language_info": {
   "codemirror_mode": {
    "name": "ipython",
    "version": 3
   },
   "file_extension": ".py",
   "mimetype": "text/x-python",
   "name": "python",
   "nbconvert_exporter": "python",
   "pygments_lexer": "ipython3",
   "version": "3.8.10"
  }
 },
 "nbformat": 4,
 "nbformat_minor": 5
}
