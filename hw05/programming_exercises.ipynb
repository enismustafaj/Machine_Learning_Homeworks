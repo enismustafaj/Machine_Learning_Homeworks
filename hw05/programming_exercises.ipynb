{
 "cells": [
  {
   "cell_type": "markdown",
   "id": "dcc52d80",
   "metadata": {},
   "source": [
    "**Programming Exercise 1**"
   ]
  },
  {
   "cell_type": "code",
   "execution_count": 1,
   "id": "d753b823",
   "metadata": {},
   "outputs": [],
   "source": [
    "import numpy as np\n",
    "import matplotlib.pyplot as plt"
   ]
  },
  {
   "cell_type": "markdown",
   "id": "a061f642",
   "metadata": {},
   "source": [
    "a) (Re-)implement Example 4.3. This time, however you need to implement the linear regression yourself, without a machine learning library. (If you implement in Python, just start from the available Jupyter notebook.) Verify the correctness of your implementation by cross-checking it with Example 4.3."
   ]
  },
  {
   "cell_type": "code",
   "execution_count": null,
   "id": "b6b107c9",
   "metadata": {},
   "outputs": [],
   "source": []
  },
  {
   "cell_type": "markdown",
   "id": "cebca99f",
   "metadata": {},
   "source": [
    "b) Apply your implementation to the Energy efficiency Data Set from the UCI Machine Learning Repository. Build the predictor for the required heating load on the full data set and predict the load on the first three samples of the data set."
   ]
  },
  {
   "cell_type": "code",
   "execution_count": null,
   "id": "64e24a30",
   "metadata": {},
   "outputs": [],
   "source": []
  },
  {
   "cell_type": "markdown",
   "id": "78b97bc4",
   "metadata": {},
   "source": [
    "c) Implement Example 4.5 starting from Example 4.2 from the lecture notes."
   ]
  },
  {
   "cell_type": "code",
   "execution_count": null,
   "id": "aff83a73",
   "metadata": {},
   "outputs": [],
   "source": []
  }
 ],
 "metadata": {
  "kernelspec": {
   "display_name": "Python 3 (ipykernel)",
   "language": "python",
   "name": "python3"
  },
  "language_info": {
   "codemirror_mode": {
    "name": "ipython",
    "version": 3
   },
   "file_extension": ".py",
   "mimetype": "text/x-python",
   "name": "python",
   "nbconvert_exporter": "python",
   "pygments_lexer": "ipython3",
   "version": "3.8.10"
  }
 },
 "nbformat": 4,
 "nbformat_minor": 5
}
