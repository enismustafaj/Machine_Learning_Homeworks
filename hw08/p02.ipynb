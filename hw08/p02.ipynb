{
 "cells": [
  {
   "cell_type": "code",
   "execution_count": 16,
   "id": "85c91b21",
   "metadata": {},
   "outputs": [],
   "source": [
    "import numpy as np"
   ]
  },
  {
   "cell_type": "code",
   "execution_count": 17,
   "id": "e7b1dc9a",
   "metadata": {},
   "outputs": [],
   "source": [
    "coeffs=[]"
   ]
  },
  {
   "cell_type": "code",
   "execution_count": 18,
   "id": "a03b1b56",
   "metadata": {},
   "outputs": [
    {
     "name": "stdout",
     "output_type": "stream",
     "text": [
      "[ 0.59230769 -0.86153846]\n"
     ]
    }
   ],
   "source": [
    "# Training Set 1\n",
    "X1=np.array([[1, -1], [1, -1.5], [1, 0.5]])\n",
    "y1=np.array([0.7, 2.45, 0.35])\n",
    "Beta1 = np.linalg.inv(X1.T @ X1) @ X1.T @ y1\n",
    "coeffs.append(Beta1)\n",
    "print(Beta1)"
   ]
  },
  {
   "cell_type": "code",
   "execution_count": 19,
   "id": "ee8d0c32",
   "metadata": {},
   "outputs": [
    {
     "name": "stdout",
     "output_type": "stream",
     "text": [
      "[ 1.61428571 -0.01428571]\n"
     ]
    }
   ],
   "source": [
    "# Trining Set 2\n",
    "X2=np.array([[1, -0.5], [1, 1.5], [1, -1.5]])\n",
    "y2=np.array([0.25, 2.05, 2.55])\n",
    "Beta2 = np.linalg.inv(X2.T @ X2) @ X2.T @ y2\n",
    "coeffs.append(Beta2)\n",
    "print(Beta2)"
   ]
  },
  {
   "cell_type": "code",
   "execution_count": 20,
   "id": "fd0a0687",
   "metadata": {},
   "outputs": [
    {
     "name": "stdout",
     "output_type": "stream",
     "text": [
      "[0.86666667 1.3       ]\n"
     ]
    }
   ],
   "source": [
    "# Trining Set 3\n",
    "X3=np.array([[1, 1.5], [1, 2], [1, -0.5]])\n",
    "y3=np.array([2.15, 4, 0.35])\n",
    "Beta3 = np.linalg.inv(X3.T @ X3) @ X3.T @ y3\n",
    "coeffs.append(Beta3)\n",
    "print(Beta3)"
   ]
  },
  {
   "cell_type": "code",
   "execution_count": 21,
   "id": "a4c2bd3a",
   "metadata": {},
   "outputs": [
    {
     "name": "stdout",
     "output_type": "stream",
     "text": [
      "[ 2.59534884 -0.67209302]\n"
     ]
    }
   ],
   "source": [
    "# Trining Set 4\n",
    "X4=np.array([[1, 1], [1, -2], [1, 1.5]])\n",
    "y4=np.array([0.8, 4.1, 2.55])\n",
    "Beta4 = np.linalg.inv(X4.T @ X4) @ X4.T @ y4\n",
    "coeffs.append(Beta4)\n",
    "print(Beta4)"
   ]
  },
  {
   "cell_type": "code",
   "execution_count": 31,
   "id": "e15839b6",
   "metadata": {},
   "outputs": [
    {
     "name": "stdout",
     "output_type": "stream",
     "text": [
      "Predicted value for T1 is 0.5923076923076922\n",
      "Predicted value for T2 is 1.6142857142857139\n",
      "Predicted value for T3 is 0.8666666666666669\n",
      "Predicted value for T4 is 2.595348837209302\n",
      "The expected value is 1.4171522276173438\n"
     ]
    }
   ],
   "source": [
    "expected_val=0\n",
    "x0=np.array([1, 0])\n",
    "pred_values=[]\n",
    "\n",
    "for i, coeff in enumerate(coeffs):\n",
    "    pred_val=x0.T.dot(coeff)\n",
    "    pred_values.append(pred_val)\n",
    "    expected_val += pred_val\n",
    "    print(f\"Predicted value for T{i + 1} is {pred_val}\")\n",
    "    \n",
    "expected_val = expected_val / len(coeffs)\n",
    "print(f\"The expected value is {expected_val}\")"
   ]
  },
  {
   "cell_type": "code",
   "execution_count": 33,
   "id": "7bf6b41f",
   "metadata": {},
   "outputs": [
    {
     "name": "stdout",
     "output_type": "stream",
     "text": [
      "0.8034705742217966\n"
     ]
    }
   ],
   "source": [
    "variance=0\n",
    "\n",
    "for value in pred_values:\n",
    "    variance += np.power(value - expected_val, 2)\n",
    "print(variance / (len(coeffs) - 1))"
   ]
  },
  {
   "cell_type": "code",
   "execution_count": null,
   "id": "a92ba39d",
   "metadata": {},
   "outputs": [],
   "source": []
  }
 ],
 "metadata": {
  "kernelspec": {
   "display_name": "Python 3 (ipykernel)",
   "language": "python",
   "name": "python3"
  },
  "language_info": {
   "codemirror_mode": {
    "name": "ipython",
    "version": 3
   },
   "file_extension": ".py",
   "mimetype": "text/x-python",
   "name": "python",
   "nbconvert_exporter": "python",
   "pygments_lexer": "ipython3",
   "version": "3.10.1"
  }
 },
 "nbformat": 4,
 "nbformat_minor": 5
}
